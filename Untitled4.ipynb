{
  "nbformat": 4,
  "nbformat_minor": 0,
  "metadata": {
    "colab": {
      "name": "Untitled4.ipynb",
      "provenance": [],
      "authorship_tag": "ABX9TyMqCv99Z9m7yE4ydzTgbMhG",
      "include_colab_link": true
    },
    "kernelspec": {
      "name": "python3",
      "display_name": "Python 3"
    }
  },
  "cells": [
    {
      "cell_type": "markdown",
      "metadata": {
        "id": "view-in-github",
        "colab_type": "text"
      },
      "source": [
        "<a href=\"https://colab.research.google.com/github/C7204-OMER/Assignment---007-5-Fibonacci-Numbers-is-due/blob/main/Untitled4.ipynb\" target=\"_parent\"><img src=\"https://colab.research.google.com/assets/colab-badge.svg\" alt=\"Open In Colab\"/></a>"
      ]
    },
    {
      "cell_type": "code",
      "metadata": {
        "id": "7EI9Q6Bmeho_"
      },
      "source": [
        ""
      ],
      "execution_count": null,
      "outputs": []
    },
    {
      "cell_type": "code",
      "metadata": {
        "id": "02VA54t5uO2Y",
        "colab": {
          "base_uri": "https://localhost:8080/"
        },
        "outputId": "b71bfb57-1f9b-4418-ec83-aeadc643783d"
      },
      "source": [
        "def fibonacci(x):\r\n",
        "    result = []\r\n",
        "    a, b = 1, 1\r\n",
        "    while a < x:\r\n",
        "        result.append(a)            #### FİBONACCİİİ #####\r\n",
        "        a, b = b, a+b\r\n",
        "    return result\r\n",
        "fibonacci55 = fibonacci(56)\r\n",
        "fibonacci55\r\n"
      ],
      "execution_count": null,
      "outputs": [
        {
          "output_type": "execute_result",
          "data": {
            "text/plain": [
              "[1, 1, 2, 3, 5, 8, 13, 21, 34, 55]"
            ]
          },
          "metadata": {
            "tags": []
          },
          "execution_count": 3
        }
      ]
    }
  ]
}